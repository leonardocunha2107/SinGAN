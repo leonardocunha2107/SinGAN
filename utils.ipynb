{
 "cells": [
  {
   "cell_type": "code",
   "execution_count": 15,
   "metadata": {},
   "outputs": [],
   "source": [
    "from skimage.io import imread,imsave,imshow\n",
    "from skimage.transform import resize\n",
    "\n",
    "im1=imread('Input/Images/eiffel.jpg')\n",
    "im2=imread('Input/Images/purse.png')\n",
    "\n"
   ]
  },
  {
   "cell_type": "code",
   "execution_count": 19,
   "metadata": {},
   "outputs": [
    {
     "data": {
      "text/plain": [
       "<matplotlib.image.AxesImage at 0x1f4230c2940>"
      ]
     },
     "execution_count": 19,
     "metadata": {},
     "output_type": "execute_result"
    },
    {
     "data": {
      "image/png": "[encoded data removed]",
      "text/plain": [
       "<Figure size 432x288 with 1 Axes>"
      ]
     },
     "metadata": {
      "needs_background": "light"
     },
     "output_type": "display_data"
    }
   ],
   "source": [
    "im=imread('Input/Paint/eiffel_paint.png')\n",
    "im=resize(im,(26,26))\n",
    "imshow(im)"
   ]
  },
  {
   "cell_type": "code",
   "execution_count": 38,
   "metadata": {},
   "outputs": [],
   "source": [
    "img=imread('Input/Images/purse.jpg')\n",
    "imsave('Input/Images/purse.png',img)"
   ]
  },
  {
   "cell_type": "code",
   "execution_count": 40,
   "metadata": {},
   "outputs": [
    {
     "data": {
      "text/plain": [
       "<matplotlib.image.AxesImage at 0x20dda5f1910>"
      ]
     },
     "execution_count": 40,
     "metadata": {},
     "output_type": "execute_result"
    },
    {
     "data": {
      "image/png": "[encoded data removed]",
      "text/plain": [
       "<Figure size 432x288 with 1 Axes>"
      ]
     },
     "metadata": {
      "needs_background": "light"
     },
     "output_type": "display_data"
    }
   ],
   "source": [
    "diff=abs(im1-im2[:,:,:3])\n",
    "\n",
    "diff[diff!=0]=1\n",
    "imshow(diff*255)"
   ]
  },
  {
   "cell_type": "code",
   "execution_count": 41,
   "metadata": {},
   "outputs": [
    {
     "name": "stderr",
     "output_type": "stream",
     "text": [
      "<ipython-input-41-d927a93c4c28>:1: UserWarning: Input/Editing/purse_ref_mask.png is a low contrast image\n",
      "  imsave('Input/Editing/purse_ref_mask.png',diff)\n"
     ]
    }
   ],
   "source": [
    "imsave('Input/Editing/purse_ref_mask.png',diff)"
   ]
  },
  {
   "cell_type": "code",
   "execution_count": 32,
   "metadata": {},
   "outputs": [],
   "source": [
    "mask=imread('Input/Editing/eiffel_ref_mask.png')"
   ]
  },
  {
   "cell_type": "code",
   "execution_count": 13,
   "metadata": {},
   "outputs": [
    {
     "name": "stderr",
     "output_type": "stream",
     "text": [
      "Lossy conversion from float64 to uint8. Range [154.35836712835552, 248.30585133667034]. Convert image to uint8 prior to saving to suppress this warning.\n",
      "Lossy conversion from float64 to uint8. Range [109.42729641694618, 251.9961955207563]. Convert image to uint8 prior to saving to suppress this warning.\n",
      "Lossy conversion from float64 to uint8. Range [79.0001438538508, 253.70741808753024]. Convert image to uint8 prior to saving to suppress this warning.\n",
      "Lossy conversion from float64 to uint8. Range [70.3643105228654, 254.06431061745252]. Convert image to uint8 prior to saving to suppress this warning.\n",
      "Lossy conversion from float64 to uint8. Range [49.81046034147363, 254.22474342904994]. Convert image to uint8 prior to saving to suppress this warning.\n",
      "Lossy conversion from float64 to uint8. Range [41.05836322138862, 254.29932514510884]. Convert image to uint8 prior to saving to suppress this warning.\n"
     ]
    }
   ],
   "source": [
    "from sklearn.cluster import KMeans\n",
    "\n",
    "def quant2centers(paint, centers):\n",
    "    kmeans = KMeans(n_clusters=5, init=centers, n_init=1).fit(arr)\n",
    "    labels = kmeans.labels_\n",
    "    #centers = kmeans.cluster_centers_\n",
    "    x = centers[labels]\n",
    "    x = torch.from_numpy(x)\n",
    "    x = move_to_gpu(x)\n",
    "    x = x.type(torch.cuda.FloatTensor) if torch.cuda.is_available() else x.type(torch.FloatTensor)\n",
    "    #x = x.type(torch.cuda.FloatTensor)\n",
    "    x = x.reshape(paint.shape)\n",
    "    return x\n",
    "\n",
    "    return paint\n",
    "prev=im2\n",
    "for k in range(2,8):\n",
    "    arr = prev.reshape((-1, 3))\n",
    "    kmeans = KMeans(n_clusters=k, random_state=0).fit(arr)\n",
    "    labels = kmeans.labels_\n",
    "    centers = kmeans.cluster_centers_\n",
    "    x = centers[labels]\n",
    "    quant= x.reshape(prev.shape)\n",
    "    imsave(f'Output/quant/purse{k}.png',quant)\n",
    "\n",
    "\n"
   ]
  },
  {
   "cell_type": "code",
   "execution_count": 12,
   "metadata": {},
   "outputs": [
    {
     "name": "stderr",
     "output_type": "stream",
     "text": [
      "Lossy conversion from float64 to uint8. Range [79.00014385385083, 253.70741808753021]. Convert image to uint8 prior to saving to suppress this warning.\n"
     ]
    }
   ],
   "source": [
    "imsave('quant.png',quant)"
   ]
  },
  {
   "cell_type": "code",
   "execution_count": 1,
   "metadata": {},
   "outputs": [],
   "source": [
    "import torch\n",
    "\n",
    "reals=torch.load('TrainedModels/eiffel/scale_factor=0.750000,alpha=10/reals.pth')"
   ]
  },
  {
   "cell_type": "code",
   "execution_count": 2,
   "metadata": {},
   "outputs": [
    {
     "name": "stdout",
     "output_type": "stream",
     "text": [
      "torch.Size([1, 3, 26, 26])\n",
      "torch.Size([1, 3, 33, 33])\n",
      "torch.Size([1, 3, 42, 42])\n",
      "torch.Size([1, 3, 54, 54])\n",
      "torch.Size([1, 3, 70, 70])\n",
      "torch.Size([1, 3, 90, 90])\n",
      "torch.Size([1, 3, 117, 117])\n",
      "torch.Size([1, 3, 150, 150])\n",
      "torch.Size([1, 3, 194, 194])\n",
      "torch.Size([1, 3, 250, 250])\n"
     ]
    }
   ],
   "source": [
    "for r in reals:\n",
    "    print(r.shape)"
   ]
  },
  {
   "cell_type": "code",
   "execution_count": 3,
   "metadata": {},
   "outputs": [
    {
     "data": {
      "text/plain": [
       "10"
      ]
     },
     "execution_count": 3,
     "metadata": {},
     "output_type": "execute_result"
    }
   ],
   "source": [
    "len(reals)"
   ]
  }
 ],
 "metadata": {
  "kernelspec": {
   "display_name": "Python 3",
   "language": "python",
   "name": "python3"
  },
  "language_info": {
   "codemirror_mode": {
    "name": "ipython",
    "version": 3
   },
   "file_extension": ".py",
   "mimetype": "text/x-python",
   "name": "python",
   "nbconvert_exporter": "python",
   "pygments_lexer": "ipython3",
   "version": "3.8.3"
  }
 },
 "nbformat": 4,
 "nbformat_minor": 4
}
